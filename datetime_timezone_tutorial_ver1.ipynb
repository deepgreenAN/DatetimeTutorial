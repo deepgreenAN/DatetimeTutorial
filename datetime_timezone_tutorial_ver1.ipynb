{
 "cells": [
  {
   "cell_type": "code",
   "execution_count": 1,
   "metadata": {
    "ExecuteTime": {
     "end_time": "2020-11-04T12:49:11.101781Z",
     "start_time": "2020-11-04T12:49:11.013014Z"
    }
   },
   "outputs": [],
   "source": [
    "import datetime\n",
    "from pytz import timezone, utc"
   ]
  },
  {
   "cell_type": "markdown",
   "metadata": {},
   "source": [
    "## timezoneを利用する場合"
   ]
  },
  {
   "cell_type": "markdown",
   "metadata": {},
   "source": [
    "### timezoneを指定したdatetime"
   ]
  },
  {
   "cell_type": "markdown",
   "metadata": {},
   "source": [
    "datetimeの値を固定してtimezoneを指定する場合は，datetime.datetimeのtzinfoにpytzのtimezoneオブジェクトを渡す方法と，timezoneオブジェクトのlocalizeメソッドを利用する方法の二つがある．しかし，tzinfoで指定してしまうと，時差は9時19分となるので，timezoneクラスのlocalizeメソッドを利用しよう．\n",
    "[参考](https://qiita.com/higitune/items/0ca244373d380cf1c060)\n",
    "実はもう一つの方法がある(datetme.datetimeのreplaceメソッドをつかう)が，こちらも時差は9時19分となってしまう．"
   ]
  },
  {
   "cell_type": "markdown",
   "metadata": {},
   "source": [
    "タイムゾーンありの時間表記は，現地時間＋utcからの時差　となる．"
   ]
  },
  {
   "cell_type": "code",
   "execution_count": 2,
   "metadata": {
    "ExecuteTime": {
     "end_time": "2020-11-04T12:49:15.867028Z",
     "start_time": "2020-11-04T12:49:13.315857Z"
    }
   },
   "outputs": [
    {
     "name": "stdout",
     "output_type": "stream",
     "text": [
      "datetime1: 2020-10-31 12:00:00\n",
      "datetime1 type: <class 'datetime.datetime'>\n",
      "datetime1 timezone: None\n",
      "datetime1 unixtime: 1604113200.0\n",
      "datetime2: 2020-10-31 12:00:00+09:19\n",
      "datetime2 type: <class 'datetime.datetime'>\n",
      "datetime2 timezone: LMT\n",
      "datetime2 unixtime: 1604112060.0\n",
      "datetime3: 2020-10-31 12:00:00+09:00\n",
      "datetime3 type: <class 'datetime.datetime'>\n",
      "datetime3 timezone: JST\n",
      "datetime3 unixtime: 1604113200.0\n"
     ]
    }
   ],
   "source": [
    "datetime1 = datetime.datetime(2020, 10, 31, 12, 0, 0)\n",
    "print(\"datetime1:\",datetime1)\n",
    "print(\"datetime1 type:\",type(datetime1))\n",
    "print(\"datetime1 timezone:\", datetime1.tzname())\n",
    "print(\"datetime1 unixtime:\", datetime1.timestamp())\n",
    "\n",
    "jst_timezone = timezone('Asia/Tokyo')\n",
    "datetime2 = datetime.datetime(2020, 10, 31, 12, 0, 0, tzinfo=jst_timezone)\n",
    "print(\"datetime2:\",datetime2)\n",
    "print(\"datetime2 type:\",type(datetime2))\n",
    "print(\"datetime2 timezone:\", datetime2.tzname())\n",
    "print(\"datetime2 unixtime:\", datetime2.timestamp())\n",
    "\n",
    "datetime3 = jst_timezone.localize(datetime.datetime(2020, 10, 31, 12, 0, 0))\n",
    "print(\"datetime3:\",datetime3)\n",
    "print(\"datetime3 type:\",type(datetime3))\n",
    "print(\"datetime3 timezone:\", datetime3.tzname())\n",
    "print(\"datetime3 unixtime:\", datetime3.timestamp())"
   ]
  },
  {
   "cell_type": "markdown",
   "metadata": {},
   "source": [
    "上を確認すると，naiveなdatetimeオブジェクトはタイムゾーンに日本を指定した値と一致していることが分かる．つまり，naiveなdatetimeオブジェクトは通常は現地時間になってしまう．これはunixtimeからdatetime.fromtimestampを用いてdatetimeオブジェクトを作成しても同じ結果になる．"
   ]
  },
  {
   "cell_type": "code",
   "execution_count": 3,
   "metadata": {
    "ExecuteTime": {
     "end_time": "2020-11-04T12:49:15.902948Z",
     "start_time": "2020-11-04T12:49:15.881992Z"
    }
   },
   "outputs": [
    {
     "name": "stdout",
     "output_type": "stream",
     "text": [
      "2020-11-01 12:00:00\n",
      "2020-11-01 12:00:00+09:00\n"
     ]
    }
   ],
   "source": [
    "add_datetime1 = datetime1 + datetime.timedelta(days=1)\n",
    "print(add_datetime1)\n",
    "add_datetime2 = datetime3 + datetime.timedelta(days=1)\n",
    "print(add_datetime2)"
   ]
  },
  {
   "cell_type": "markdown",
   "metadata": {},
   "source": [
    "上のようにdatetime.timedeltaを利用して和もとれる"
   ]
  },
  {
   "cell_type": "markdown",
   "metadata": {},
   "source": [
    "### 同時刻(同じunixtime)のタイムゾーンの異なるdatetimeを取得"
   ]
  },
  {
   "cell_type": "markdown",
   "metadata": {},
   "source": [
    "タイムゾーンの指定されたdatetimeが与えらえたとき，他の地域におけるその時刻のdatetimeを取得したいときがある．そのようなときは，datetime.datetime.astimezoneメソッドを利用する．"
   ]
  },
  {
   "cell_type": "code",
   "execution_count": 4,
   "metadata": {
    "ExecuteTime": {
     "end_time": "2020-11-04T12:49:16.985044Z",
     "start_time": "2020-11-04T12:49:16.944189Z"
    }
   },
   "outputs": [
    {
     "name": "stdout",
     "output_type": "stream",
     "text": [
      "datetime4: 2020-10-31 11:00:00+08:00\n",
      "datetime4 type: <class 'datetime.datetime'>\n",
      "datetime4 timezone: HKT\n",
      "datetime4 unixtime: 1604113200.0\n"
     ]
    }
   ],
   "source": [
    "hk_timezone = timezone(\"Asia/Hong_Kong\")\n",
    "datetime4 = datetime3.astimezone(hk_timezone)\n",
    "print(\"datetime4:\",datetime4)\n",
    "print(\"datetime4 type:\",type(datetime4))\n",
    "print(\"datetime4 timezone:\", datetime4.tzname())\n",
    "print(\"datetime4 unixtime:\", datetime4.timestamp())"
   ]
  },
  {
   "cell_type": "markdown",
   "metadata": {},
   "source": [
    "astimezoneはnaiveなdatetimeでも利用できる．その場合，パソコンのローカルなタイムゾーンが指定される．"
   ]
  },
  {
   "cell_type": "markdown",
   "metadata": {},
   "source": [
    "###  同時刻(同じunixtime)のUTCのnaiveなdatetimeを取得"
   ]
  },
  {
   "cell_type": "markdown",
   "metadata": {},
   "source": [
    "sqliteではnaiveなdatetimeしか利用できないっぽいので，データベースにはUTCで保存する．そこで，タイムゾーンが指定されたdatetimeから，同じunix時刻を持つUTC時刻に対応したnaiveなdatetimeを取得する．やり方は，以下のように行う．\n",
    "- awareなdatetimeからtimestampメソッドを利用してunix時刻を取得\n",
    "- unix時刻からdatetime.datetime.utcfromtimestampを利用してdatetimeを取得"
   ]
  },
  {
   "cell_type": "code",
   "execution_count": 5,
   "metadata": {
    "ExecuteTime": {
     "end_time": "2020-11-04T12:49:19.423519Z",
     "start_time": "2020-11-04T12:49:19.384629Z"
    }
   },
   "outputs": [
    {
     "name": "stdout",
     "output_type": "stream",
     "text": [
      "utc_datetime3: 2020-10-31 03:00:00\n",
      "utc_datetime3 type: <class 'datetime.datetime'>\n",
      "utc_datetime3 timezone: None\n",
      "utc_datetime3 unixtime 1604080800.0\n"
     ]
    }
   ],
   "source": [
    "datatime3_unix = datetime3.timestamp()\n",
    "utc_datetime3 = datetime.datetime.utcfromtimestamp(datatime3_unix)\n",
    "print(\"utc_datetime3:\",utc_datetime3)\n",
    "print(\"utc_datetime3 type:\",type(utc_datetime3))\n",
    "print(\"utc_datetime3 timezone:\", utc_datetime3.tzname())\n",
    "print(\"utc_datetime3 unixtime\", utc_datetime3.timestamp())"
   ]
  },
  {
   "cell_type": "markdown",
   "metadata": {},
   "source": [
    "ここで，unixtimeがdatetime3と異なっていることが分かる．これは，naiveなdatetimeのタイムゾーンが日本になってしまうことが原因である．このnaiveなdatetimeをutcにlocalizしてしまえば，unixtimeが一致するはずである．"
   ]
  },
  {
   "cell_type": "code",
   "execution_count": 6,
   "metadata": {
    "ExecuteTime": {
     "end_time": "2020-11-04T12:49:20.700103Z",
     "start_time": "2020-11-04T12:49:20.670190Z"
    }
   },
   "outputs": [
    {
     "name": "stdout",
     "output_type": "stream",
     "text": [
      "localized_utc_datetime3: 2020-10-31 03:00:00+00:00\n",
      "localized_utc_datetime3 type: <class 'datetime.datetime'>\n",
      "localized_utc_datetime3 timezone: UTC\n",
      "localized_utc_datetime3 unixtime: 1604113200.0\n"
     ]
    }
   ],
   "source": [
    "utc_timezone = timezone(\"UTC\")\n",
    "localized_utc_datetime3 = utc_timezone.localize(utc_datetime3)\n",
    "print(\"localized_utc_datetime3:\",localized_utc_datetime3)\n",
    "print(\"localized_utc_datetime3 type:\",type(localized_utc_datetime3))\n",
    "print(\"localized_utc_datetime3 timezone:\", localized_utc_datetime3.tzname())\n",
    "print(\"localized_utc_datetime3 unixtime:\", localized_utc_datetime3.timestamp())"
   ]
  },
  {
   "cell_type": "markdown",
   "metadata": {},
   "source": [
    "### 同じdatetimeの値を持つタイムゾーンの異なるdatetimeを取得 "
   ]
  },
  {
   "cell_type": "markdown",
   "metadata": {},
   "source": [
    "ほとんど使い道はないだろうが，同じdatetimeの値を持つタイムゾーンの異なるdatetimeオブジェクト取得する．unix時刻は異なることに注意．<- 使い道はあった表示の時"
   ]
  },
  {
   "cell_type": "code",
   "execution_count": 8,
   "metadata": {
    "ExecuteTime": {
     "end_time": "2020-11-04T12:50:29.959826Z",
     "start_time": "2020-11-04T12:50:29.928920Z"
    }
   },
   "outputs": [
    {
     "name": "stdout",
     "output_type": "stream",
     "text": [
      "without_tz_datetime4: 2020-10-31 11:00:00\n",
      "without_tz_datetime4 type: <class 'datetime.datetime'>\n",
      "without_tz_datetime4 timezone None\n",
      "without_tz_datetime4 unixtime: 1604109600.0\n"
     ]
    }
   ],
   "source": [
    "without_tz_datetime4 = datetime4.replace(tzinfo=None)\n",
    "print(\"without_tz_datetime4:\", without_tz_datetime4)\n",
    "print(\"without_tz_datetime4 type:\", type(without_tz_datetime4))\n",
    "print(\"without_tz_datetime4 timezone\",without_tz_datetime4.tzname())\n",
    "print(\"without_tz_datetime4 unixtime:\",without_tz_datetime4.timestamp())"
   ]
  },
  {
   "cell_type": "markdown",
   "metadata": {},
   "source": [
    "ちなみに，astimezone(None)とすると，日本のタイムゾーンが設定されるので注意"
   ]
  },
  {
   "cell_type": "markdown",
   "metadata": {},
   "source": [
    "### タイムゾーン名の取得 "
   ]
  },
  {
   "cell_type": "markdown",
   "metadata": {},
   "source": [
    "存在しない場合，Noneが返る．"
   ]
  },
  {
   "cell_type": "code",
   "execution_count": 9,
   "metadata": {
    "ExecuteTime": {
     "end_time": "2020-11-04T12:50:32.355419Z",
     "start_time": "2020-11-04T12:50:32.334473Z"
    }
   },
   "outputs": [
    {
     "name": "stdout",
     "output_type": "stream",
     "text": [
      "None\n",
      "LMT\n"
     ]
    }
   ],
   "source": [
    "print(datetime1.tzname())\n",
    "print(datetime2.tzname())"
   ]
  },
  {
   "cell_type": "code",
   "execution_count": 10,
   "metadata": {
    "ExecuteTime": {
     "end_time": "2020-11-04T12:50:33.006675Z",
     "start_time": "2020-11-04T12:50:32.987739Z"
    }
   },
   "outputs": [
    {
     "name": "stdout",
     "output_type": "stream",
     "text": [
      "None\n",
      "Asia/Tokyo\n"
     ]
    }
   ],
   "source": [
    "print(datetime1.tzinfo)\n",
    "print(datetime3.tzinfo)"
   ]
  },
  {
   "cell_type": "markdown",
   "metadata": {},
   "source": [
    "実は，tzinfoはtzinfoクラスであるので，timezoneのコンストラクタにはstr(tzinfo)として文字列にしてから渡す．"
   ]
  },
  {
   "cell_type": "markdown",
   "metadata": {},
   "source": [
    "### システムローカルなタイムゾーンを取得"
   ]
  },
  {
   "cell_type": "code",
   "execution_count": 11,
   "metadata": {
    "ExecuteTime": {
     "end_time": "2020-11-04T12:50:34.991412Z",
     "start_time": "2020-11-04T12:50:34.334127Z"
    }
   },
   "outputs": [
    {
     "ename": "AttributeError",
     "evalue": "module 'dateutil' has no attribute 'tzlocal'",
     "output_type": "error",
     "traceback": [
      "\u001b[1;31m---------------------------------------------------------------------------\u001b[0m",
      "\u001b[1;31mAttributeError\u001b[0m                            Traceback (most recent call last)",
      "\u001b[1;32m<ipython-input-11-3b37f6dcef05>\u001b[0m in \u001b[0;36m<module>\u001b[1;34m\u001b[0m\n\u001b[0;32m      1\u001b[0m \u001b[1;32mimport\u001b[0m \u001b[0mdateutil\u001b[0m\u001b[1;33m\u001b[0m\u001b[1;33m\u001b[0m\u001b[0m\n\u001b[1;32m----> 2\u001b[1;33m \u001b[0mprint\u001b[0m\u001b[1;33m(\u001b[0m\u001b[0mdateutil\u001b[0m\u001b[1;33m.\u001b[0m\u001b[0mtzlocal\u001b[0m\u001b[1;33m(\u001b[0m\u001b[1;33m)\u001b[0m\u001b[1;33m)\u001b[0m\u001b[1;33m\u001b[0m\u001b[1;33m\u001b[0m\u001b[0m\n\u001b[0m",
      "\u001b[1;31mAttributeError\u001b[0m: module 'dateutil' has no attribute 'tzlocal'"
     ]
    }
   ],
   "source": [
    "import dateutil\n",
    "print(dateutil.tzlocal())"
   ]
  },
  {
   "cell_type": "markdown",
   "metadata": {
    "ExecuteTime": {
     "end_time": "2020-10-31T05:37:37.837807Z",
     "start_time": "2020-10-31T05:37:37.744058Z"
    }
   },
   "source": [
    "## pandasにおける取り扱い "
   ]
  },
  {
   "cell_type": "markdown",
   "metadata": {},
   "source": [
    "seriesでも扱いは同じだと思うので，timestampをインデックスとして利用する場合を考える．pandasではdatetimeをインデックスとして利用する場合はDateTimeIndexクラスを用いるが，その際タイムゾーンも維持される"
   ]
  },
  {
   "cell_type": "code",
   "execution_count": 12,
   "metadata": {
    "ExecuteTime": {
     "end_time": "2020-11-04T12:50:41.055153Z",
     "start_time": "2020-11-04T12:50:37.287270Z"
    }
   },
   "outputs": [],
   "source": [
    "import pandas as pd"
   ]
  },
  {
   "cell_type": "code",
   "execution_count": 13,
   "metadata": {
    "ExecuteTime": {
     "end_time": "2020-11-04T12:50:41.415195Z",
     "start_time": "2020-11-04T12:50:41.075094Z"
    }
   },
   "outputs": [
    {
     "data": {
      "text/html": [
       "<div>\n",
       "<style scoped>\n",
       "    .dataframe tbody tr th:only-of-type {\n",
       "        vertical-align: middle;\n",
       "    }\n",
       "\n",
       "    .dataframe tbody tr th {\n",
       "        vertical-align: top;\n",
       "    }\n",
       "\n",
       "    .dataframe thead th {\n",
       "        text-align: right;\n",
       "    }\n",
       "</style>\n",
       "<table border=\"1\" class=\"dataframe\">\n",
       "  <thead>\n",
       "    <tr style=\"text-align: right;\">\n",
       "      <th></th>\n",
       "      <th>0</th>\n",
       "      <th>1</th>\n",
       "    </tr>\n",
       "  </thead>\n",
       "  <tbody>\n",
       "    <tr>\n",
       "      <th>2020-10-31 12:00:00</th>\n",
       "      <td>0</td>\n",
       "      <td>1</td>\n",
       "    </tr>\n",
       "    <tr>\n",
       "      <th>2020-10-31 13:00:00</th>\n",
       "      <td>2</td>\n",
       "      <td>3</td>\n",
       "    </tr>\n",
       "  </tbody>\n",
       "</table>\n",
       "</div>"
      ],
      "text/plain": [
       "                     0  1\n",
       "2020-10-31 12:00:00  0  1\n",
       "2020-10-31 13:00:00  2  3"
      ]
     },
     "execution_count": 13,
     "metadata": {},
     "output_type": "execute_result"
    }
   ],
   "source": [
    "datetime_list1 = [datetime.datetime(2020, 10, 31, 12, 0, 0),\n",
    "                  datetime.datetime(2020, 10, 31, 13, 0, 0),\n",
    "                 ]\n",
    "\n",
    "df_list = [[0, 1], [2, 3]]\n",
    "\n",
    "df1 = pd.DataFrame(df_list, index=datetime_list1)\n",
    "df1"
   ]
  },
  {
   "cell_type": "markdown",
   "metadata": {},
   "source": [
    "### timezoneを指定する"
   ]
  },
  {
   "cell_type": "code",
   "execution_count": 14,
   "metadata": {
    "ExecuteTime": {
     "end_time": "2020-11-04T12:50:41.562786Z",
     "start_time": "2020-11-04T12:50:41.452081Z"
    }
   },
   "outputs": [
    {
     "data": {
      "text/html": [
       "<div>\n",
       "<style scoped>\n",
       "    .dataframe tbody tr th:only-of-type {\n",
       "        vertical-align: middle;\n",
       "    }\n",
       "\n",
       "    .dataframe tbody tr th {\n",
       "        vertical-align: top;\n",
       "    }\n",
       "\n",
       "    .dataframe thead th {\n",
       "        text-align: right;\n",
       "    }\n",
       "</style>\n",
       "<table border=\"1\" class=\"dataframe\">\n",
       "  <thead>\n",
       "    <tr style=\"text-align: right;\">\n",
       "      <th></th>\n",
       "      <th>0</th>\n",
       "      <th>1</th>\n",
       "    </tr>\n",
       "  </thead>\n",
       "  <tbody>\n",
       "    <tr>\n",
       "      <th>2020-10-31 12:00:00+09:00</th>\n",
       "      <td>0</td>\n",
       "      <td>1</td>\n",
       "    </tr>\n",
       "    <tr>\n",
       "      <th>2020-10-31 13:00:00+09:00</th>\n",
       "      <td>2</td>\n",
       "      <td>3</td>\n",
       "    </tr>\n",
       "  </tbody>\n",
       "</table>\n",
       "</div>"
      ],
      "text/plain": [
       "                           0  1\n",
       "2020-10-31 12:00:00+09:00  0  1\n",
       "2020-10-31 13:00:00+09:00  2  3"
      ]
     },
     "execution_count": 14,
     "metadata": {},
     "output_type": "execute_result"
    }
   ],
   "source": [
    "datetime_list2 = [jst_timezone.localize(datetime.datetime(2020, 10, 31, 12, 0, 0)),\n",
    "                  jst_timezone.localize(datetime.datetime(2020, 10, 31, 13, 0, 0)),\n",
    "                 ]\n",
    "\n",
    "df_list = [[0, 1], [2, 3]]\n",
    "\n",
    "df2 = pd.DataFrame(df_list, index=datetime_list2)\n",
    "df2"
   ]
  },
  {
   "cell_type": "markdown",
   "metadata": {},
   "source": [
    "pandas.DateTimeIndexのtz_localizeメソッドを利用することで，タイムゾーンをpandas側で指定できる．"
   ]
  },
  {
   "cell_type": "code",
   "execution_count": 15,
   "metadata": {
    "ExecuteTime": {
     "end_time": "2020-11-04T12:50:41.664517Z",
     "start_time": "2020-11-04T12:50:41.581735Z"
    }
   },
   "outputs": [
    {
     "data": {
      "text/html": [
       "<div>\n",
       "<style scoped>\n",
       "    .dataframe tbody tr th:only-of-type {\n",
       "        vertical-align: middle;\n",
       "    }\n",
       "\n",
       "    .dataframe tbody tr th {\n",
       "        vertical-align: top;\n",
       "    }\n",
       "\n",
       "    .dataframe thead th {\n",
       "        text-align: right;\n",
       "    }\n",
       "</style>\n",
       "<table border=\"1\" class=\"dataframe\">\n",
       "  <thead>\n",
       "    <tr style=\"text-align: right;\">\n",
       "      <th></th>\n",
       "      <th>0</th>\n",
       "      <th>1</th>\n",
       "    </tr>\n",
       "  </thead>\n",
       "  <tbody>\n",
       "    <tr>\n",
       "      <th>2020-10-31 12:00:00+09:00</th>\n",
       "      <td>0</td>\n",
       "      <td>1</td>\n",
       "    </tr>\n",
       "    <tr>\n",
       "      <th>2020-10-31 13:00:00+09:00</th>\n",
       "      <td>2</td>\n",
       "      <td>3</td>\n",
       "    </tr>\n",
       "  </tbody>\n",
       "</table>\n",
       "</div>"
      ],
      "text/plain": [
       "                           0  1\n",
       "2020-10-31 12:00:00+09:00  0  1\n",
       "2020-10-31 13:00:00+09:00  2  3"
      ]
     },
     "execution_count": 15,
     "metadata": {},
     "output_type": "execute_result"
    }
   ],
   "source": [
    "df3 = pd.DataFrame(df_list, index=datetime_list1)\n",
    "df3.index = df3.index.tz_localize(\"Asia/Tokyo\")\n",
    "df3"
   ]
  },
  {
   "cell_type": "markdown",
   "metadata": {},
   "source": [
    "### 同時刻（同じunixtime）のタイムゾーンの異なるdatetimeindexを取得 "
   ]
  },
  {
   "cell_type": "markdown",
   "metadata": {},
   "source": [
    "pandas.DateTimeIndexのtz_convertメソッドを利用する．これはdatetime.datetime.astimezoneに相当する．"
   ]
  },
  {
   "cell_type": "code",
   "execution_count": 16,
   "metadata": {
    "ExecuteTime": {
     "end_time": "2020-11-04T12:50:44.249598Z",
     "start_time": "2020-11-04T12:50:44.192752Z"
    }
   },
   "outputs": [
    {
     "data": {
      "text/html": [
       "<div>\n",
       "<style scoped>\n",
       "    .dataframe tbody tr th:only-of-type {\n",
       "        vertical-align: middle;\n",
       "    }\n",
       "\n",
       "    .dataframe tbody tr th {\n",
       "        vertical-align: top;\n",
       "    }\n",
       "\n",
       "    .dataframe thead th {\n",
       "        text-align: right;\n",
       "    }\n",
       "</style>\n",
       "<table border=\"1\" class=\"dataframe\">\n",
       "  <thead>\n",
       "    <tr style=\"text-align: right;\">\n",
       "      <th></th>\n",
       "      <th>0</th>\n",
       "      <th>1</th>\n",
       "    </tr>\n",
       "  </thead>\n",
       "  <tbody>\n",
       "    <tr>\n",
       "      <th>2020-10-31 11:00:00+08:00</th>\n",
       "      <td>0</td>\n",
       "      <td>1</td>\n",
       "    </tr>\n",
       "    <tr>\n",
       "      <th>2020-10-31 12:00:00+08:00</th>\n",
       "      <td>2</td>\n",
       "      <td>3</td>\n",
       "    </tr>\n",
       "  </tbody>\n",
       "</table>\n",
       "</div>"
      ],
      "text/plain": [
       "                           0  1\n",
       "2020-10-31 11:00:00+08:00  0  1\n",
       "2020-10-31 12:00:00+08:00  2  3"
      ]
     },
     "execution_count": 16,
     "metadata": {},
     "output_type": "execute_result"
    }
   ],
   "source": [
    "df3.index = df3.index.tz_convert(\"Asia/Hong_Kong\")\n",
    "df3"
   ]
  },
  {
   "cell_type": "markdown",
   "metadata": {},
   "source": [
    "###  タイムゾーン名の取得"
   ]
  },
  {
   "cell_type": "markdown",
   "metadata": {},
   "source": [
    "存在していない場合，Noneが返る"
   ]
  },
  {
   "cell_type": "code",
   "execution_count": 17,
   "metadata": {
    "ExecuteTime": {
     "end_time": "2020-11-04T12:50:46.576376Z",
     "start_time": "2020-11-04T12:50:46.553439Z"
    }
   },
   "outputs": [
    {
     "name": "stdout",
     "output_type": "stream",
     "text": [
      "None\n",
      "Asia/Hong_Kong\n"
     ]
    }
   ],
   "source": [
    "print(str(df1.index.tzinfo))\n",
    "print(str(df3.index.tzinfo))"
   ]
  },
  {
   "cell_type": "markdown",
   "metadata": {},
   "source": [
    "### datetimeに変換する場合"
   ]
  },
  {
   "cell_type": "markdown",
   "metadata": {},
   "source": [
    "そのままto_pydatetimeで変更してしまうと，awareで返ってきてしまう．"
   ]
  },
  {
   "cell_type": "code",
   "execution_count": 18,
   "metadata": {
    "ExecuteTime": {
     "end_time": "2020-11-04T12:50:50.444030Z",
     "start_time": "2020-11-04T12:50:50.414107Z"
    }
   },
   "outputs": [
    {
     "data": {
      "text/plain": [
       "array([datetime.datetime(2020, 10, 31, 11, 0, tzinfo=<DstTzInfo 'Asia/Hong_Kong' HKT+8:00:00 STD>),\n",
       "       datetime.datetime(2020, 10, 31, 12, 0, tzinfo=<DstTzInfo 'Asia/Hong_Kong' HKT+8:00:00 STD>)],\n",
       "      dtype=object)"
      ]
     },
     "execution_count": 18,
     "metadata": {},
     "output_type": "execute_result"
    }
   ],
   "source": [
    "index_list = df3.index.to_pydatetime()\n",
    "index_list"
   ]
  },
  {
   "cell_type": "markdown",
   "metadata": {},
   "source": [
    "### 同時刻のUTCのnaiveなdatetimeを取得 "
   ]
  },
  {
   "cell_type": "markdown",
   "metadata": {},
   "source": [
    "tz_convertでNoneを指定することでNaiveなutcのdatetimeが得られる．これは，UTCの時間になる!"
   ]
  },
  {
   "cell_type": "code",
   "execution_count": 19,
   "metadata": {
    "ExecuteTime": {
     "end_time": "2020-11-04T12:50:52.162436Z",
     "start_time": "2020-11-04T12:50:52.113562Z"
    }
   },
   "outputs": [
    {
     "data": {
      "text/plain": [
       "array([datetime.datetime(2020, 10, 31, 3, 0),\n",
       "       datetime.datetime(2020, 10, 31, 4, 0)], dtype=object)"
      ]
     },
     "execution_count": 19,
     "metadata": {},
     "output_type": "execute_result"
    }
   ],
   "source": [
    "df3.index.tz_convert(None).to_pydatetime()"
   ]
  },
  {
   "cell_type": "code",
   "execution_count": 68,
   "metadata": {
    "ExecuteTime": {
     "end_time": "2020-11-02T19:51:51.194332Z",
     "start_time": "2020-11-02T19:51:51.177377Z"
    }
   },
   "outputs": [
    {
     "name": "stdout",
     "output_type": "stream",
     "text": [
      "None\n"
     ]
    }
   ],
   "source": [
    "df3.index = df3.index.tz_convert(None)\n",
    "print(df3.index.tzinfo)"
   ]
  },
  {
   "cell_type": "code",
   "execution_count": 69,
   "metadata": {
    "ExecuteTime": {
     "end_time": "2020-11-02T19:52:00.788665Z",
     "start_time": "2020-11-02T19:52:00.490464Z"
    }
   },
   "outputs": [
    {
     "ename": "TypeError",
     "evalue": "Cannot convert tz-naive timestamps, use tz_localize to localize",
     "output_type": "error",
     "traceback": [
      "\u001b[1;31m---------------------------------------------------------------------------\u001b[0m",
      "\u001b[1;31mTypeError\u001b[0m                                 Traceback (most recent call last)",
      "\u001b[1;32m<ipython-input-69-14555ff82893>\u001b[0m in \u001b[0;36m<module>\u001b[1;34m\u001b[0m\n\u001b[1;32m----> 1\u001b[1;33m \u001b[0mdf3\u001b[0m\u001b[1;33m.\u001b[0m\u001b[0mindex\u001b[0m \u001b[1;33m=\u001b[0m \u001b[0mdf3\u001b[0m\u001b[1;33m.\u001b[0m\u001b[0mindex\u001b[0m\u001b[1;33m.\u001b[0m\u001b[0mtz_convert\u001b[0m\u001b[1;33m(\u001b[0m\u001b[1;32mNone\u001b[0m\u001b[1;33m)\u001b[0m\u001b[1;33m\u001b[0m\u001b[1;33m\u001b[0m\u001b[0m\n\u001b[0m\u001b[0;32m      2\u001b[0m \u001b[0mprint\u001b[0m\u001b[1;33m(\u001b[0m\u001b[0mdf3\u001b[0m\u001b[1;33m.\u001b[0m\u001b[0mindex\u001b[0m\u001b[1;33m.\u001b[0m\u001b[0mtzinfo\u001b[0m\u001b[1;33m)\u001b[0m\u001b[1;33m\u001b[0m\u001b[1;33m\u001b[0m\u001b[0m\n",
      "\u001b[1;32m~\\Anaconda3\\envs\\torch_py37\\lib\\site-packages\\pandas\\core\\indexes\\extension.py\u001b[0m in \u001b[0;36mmethod\u001b[1;34m(self, *args, **kwargs)\u001b[0m\n\u001b[0;32m     76\u001b[0m \u001b[1;33m\u001b[0m\u001b[0m\n\u001b[0;32m     77\u001b[0m         \u001b[1;32mdef\u001b[0m \u001b[0mmethod\u001b[0m\u001b[1;33m(\u001b[0m\u001b[0mself\u001b[0m\u001b[1;33m,\u001b[0m \u001b[1;33m*\u001b[0m\u001b[0margs\u001b[0m\u001b[1;33m,\u001b[0m \u001b[1;33m**\u001b[0m\u001b[0mkwargs\u001b[0m\u001b[1;33m)\u001b[0m\u001b[1;33m:\u001b[0m\u001b[1;33m\u001b[0m\u001b[1;33m\u001b[0m\u001b[0m\n\u001b[1;32m---> 78\u001b[1;33m             \u001b[0mresult\u001b[0m \u001b[1;33m=\u001b[0m \u001b[0mattr\u001b[0m\u001b[1;33m(\u001b[0m\u001b[0mself\u001b[0m\u001b[1;33m.\u001b[0m\u001b[0m_data\u001b[0m\u001b[1;33m,\u001b[0m \u001b[1;33m*\u001b[0m\u001b[0margs\u001b[0m\u001b[1;33m,\u001b[0m \u001b[1;33m**\u001b[0m\u001b[0mkwargs\u001b[0m\u001b[1;33m)\u001b[0m\u001b[1;33m\u001b[0m\u001b[1;33m\u001b[0m\u001b[0m\n\u001b[0m\u001b[0;32m     79\u001b[0m             \u001b[1;32mif\u001b[0m \u001b[0mwrap\u001b[0m\u001b[1;33m:\u001b[0m\u001b[1;33m\u001b[0m\u001b[1;33m\u001b[0m\u001b[0m\n\u001b[0;32m     80\u001b[0m                 \u001b[1;32mif\u001b[0m \u001b[0misinstance\u001b[0m\u001b[1;33m(\u001b[0m\u001b[0mresult\u001b[0m\u001b[1;33m,\u001b[0m \u001b[0mtype\u001b[0m\u001b[1;33m(\u001b[0m\u001b[0mself\u001b[0m\u001b[1;33m.\u001b[0m\u001b[0m_data\u001b[0m\u001b[1;33m)\u001b[0m\u001b[1;33m)\u001b[0m\u001b[1;33m:\u001b[0m\u001b[1;33m\u001b[0m\u001b[1;33m\u001b[0m\u001b[0m\n",
      "\u001b[1;32m~\\Anaconda3\\envs\\torch_py37\\lib\\site-packages\\pandas\\core\\arrays\\datetimes.py\u001b[0m in \u001b[0;36mtz_convert\u001b[1;34m(self, tz)\u001b[0m\n\u001b[0;32m    800\u001b[0m             \u001b[1;31m# tz naive, use tz_localize\u001b[0m\u001b[1;33m\u001b[0m\u001b[1;33m\u001b[0m\u001b[1;33m\u001b[0m\u001b[0m\n\u001b[0;32m    801\u001b[0m             raise TypeError(\n\u001b[1;32m--> 802\u001b[1;33m                 \u001b[1;34m\"Cannot convert tz-naive timestamps, use tz_localize to localize\"\u001b[0m\u001b[1;33m\u001b[0m\u001b[1;33m\u001b[0m\u001b[0m\n\u001b[0m\u001b[0;32m    803\u001b[0m             )\n\u001b[0;32m    804\u001b[0m \u001b[1;33m\u001b[0m\u001b[0m\n",
      "\u001b[1;31mTypeError\u001b[0m: Cannot convert tz-naive timestamps, use tz_localize to localize"
     ]
    }
   ],
   "source": [
    "df3.index = df3.index.tz_convert(None)\n",
    "print(df3.index.tzinfo)"
   ]
  },
  {
   "cell_type": "markdown",
   "metadata": {},
   "source": [
    "Noneを指定してnaiveなdatatimeにした場合，もう一度tz_convertするとエラーが出るので注意！"
   ]
  },
  {
   "cell_type": "markdown",
   "metadata": {},
   "source": [
    "### 同じdatetimeの値を持つタイムゾーンの異なるdatetimeを取得 "
   ]
  },
  {
   "cell_type": "markdown",
   "metadata": {},
   "source": [
    "使い道がないと思ったが，表示するのにnaiveである必要がある場合に使える．tz_localizeにNoneを指定する．"
   ]
  },
  {
   "cell_type": "code",
   "execution_count": 24,
   "metadata": {
    "ExecuteTime": {
     "end_time": "2020-11-04T13:15:34.674720Z",
     "start_time": "2020-11-04T13:15:34.579977Z"
    }
   },
   "outputs": [
    {
     "name": "stdout",
     "output_type": "stream",
     "text": [
      "DatetimeIndex(['2020-10-31 12:00:00+09:00', '2020-10-31 13:00:00+09:00'], dtype='datetime64[ns, Asia/Tokyo]', freq=None)\n",
      "DatetimeIndex(['2020-10-31 12:00:00', '2020-10-31 13:00:00'], dtype='datetime64[ns]', freq=None)\n"
     ]
    }
   ],
   "source": [
    "df3 = pd.DataFrame(df_list, index=datetime_list1)\n",
    "df3.index = df3.index.tz_localize(\"Asia/Tokyo\")\n",
    "print(df3.index)\n",
    "\n",
    "df3.index = df3.index.tz_localize(None)\n",
    "print(df3.index)"
   ]
  },
  {
   "cell_type": "markdown",
   "metadata": {},
   "source": [
    "### sqliteにおける取り扱い "
   ]
  },
  {
   "cell_type": "code",
   "execution_count": 16,
   "metadata": {
    "ExecuteTime": {
     "end_time": "2020-11-02T18:12:54.787601Z",
     "start_time": "2020-11-02T18:12:54.775631Z"
    }
   },
   "outputs": [],
   "source": [
    "from pathlib import Path\n",
    "import sqlite3\n",
    "from contextlib import closing"
   ]
  },
  {
   "cell_type": "code",
   "execution_count": 17,
   "metadata": {
    "ExecuteTime": {
     "end_time": "2020-11-02T18:12:55.469778Z",
     "start_time": "2020-11-02T18:12:55.446840Z"
    }
   },
   "outputs": [],
   "source": [
    "db_path = Path(\"datetime.db\")\n",
    "def make_conn():\n",
    "    conn = sqlite3.connect(db_path,\n",
    "                           detect_types=sqlite3.PARSE_DECLTYPES|sqlite3.PARSE_COLNAMES\n",
    "                          )\n",
    "    return conn"
   ]
  },
  {
   "cell_type": "markdown",
   "metadata": {},
   "source": [
    "#### sqlite3パッケージを利用してinsert "
   ]
  },
  {
   "cell_type": "code",
   "execution_count": 18,
   "metadata": {
    "ExecuteTime": {
     "end_time": "2020-11-02T18:12:56.461124Z",
     "start_time": "2020-11-02T18:12:56.326483Z"
    },
    "code_folding": []
   },
   "outputs": [
    {
     "name": "stdout",
     "output_type": "stream",
     "text": [
      "[(datetime.datetime(2020, 10, 31, 0, 0),), (datetime.datetime(2020, 10, 31, 0, 1),)]\n"
     ]
    }
   ],
   "source": [
    "datetime_list1 = [[datetime.datetime(2020, 10, 31, 0, 0, 0),],\n",
    "                  [datetime.datetime(2020, 10, 31, 0, 1, 0),]\n",
    "                 ]\n",
    "\n",
    "\n",
    "with closing(make_conn()) as conn:\n",
    "    c = conn.cursor()\n",
    "    c.execute(\"create table times1 (datetime timestamp)\")\n",
    "    c.executemany(\"insert into times1(datetime) values(?)\",datetime_list1)\n",
    "    conn.commit()\n",
    "    \n",
    "    c.execute(\"select * from times1\")\n",
    "    print(c.fetchall())\n",
    "    c.execute(\"drop table times1\")"
   ]
  },
  {
   "cell_type": "markdown",
   "metadata": {},
   "source": [
    "timezone指定をしてしまうと，エラーが出てしまう"
   ]
  },
  {
   "cell_type": "code",
   "execution_count": 77,
   "metadata": {
    "ExecuteTime": {
     "end_time": "2020-11-02T19:59:07.717595Z",
     "start_time": "2020-11-02T19:59:07.494191Z"
    }
   },
   "outputs": [
    {
     "ename": "ValueError",
     "evalue": "invalid literal for int() with base 10: b'00+09'",
     "output_type": "error",
     "traceback": [
      "\u001b[1;31m---------------------------------------------------------------------------\u001b[0m",
      "\u001b[1;31mValueError\u001b[0m                                Traceback (most recent call last)",
      "\u001b[1;32m<ipython-input-77-6fda20c57d57>\u001b[0m in \u001b[0;36m<module>\u001b[1;34m\u001b[0m\n\u001b[0;32m     10\u001b[0m     \u001b[0mconn\u001b[0m\u001b[1;33m.\u001b[0m\u001b[0mcommit\u001b[0m\u001b[1;33m(\u001b[0m\u001b[1;33m)\u001b[0m\u001b[1;33m\u001b[0m\u001b[1;33m\u001b[0m\u001b[0m\n\u001b[0;32m     11\u001b[0m \u001b[1;33m\u001b[0m\u001b[0m\n\u001b[1;32m---> 12\u001b[1;33m     \u001b[0mc\u001b[0m\u001b[1;33m.\u001b[0m\u001b[0mexecute\u001b[0m\u001b[1;33m(\u001b[0m\u001b[1;34m\"select * from times2\"\u001b[0m\u001b[1;33m)\u001b[0m\u001b[1;33m\u001b[0m\u001b[1;33m\u001b[0m\u001b[0m\n\u001b[0m\u001b[0;32m     13\u001b[0m     \u001b[0mprint\u001b[0m\u001b[1;33m(\u001b[0m\u001b[0mc\u001b[0m\u001b[1;33m.\u001b[0m\u001b[0mfetchall\u001b[0m\u001b[1;33m(\u001b[0m\u001b[1;33m)\u001b[0m\u001b[1;33m)\u001b[0m\u001b[1;33m\u001b[0m\u001b[1;33m\u001b[0m\u001b[0m\n\u001b[0;32m     14\u001b[0m     \u001b[0mc\u001b[0m\u001b[1;33m.\u001b[0m\u001b[0mexecute\u001b[0m\u001b[1;33m(\u001b[0m\u001b[1;34m\"drop table times2\"\u001b[0m\u001b[1;33m)\u001b[0m\u001b[1;33m\u001b[0m\u001b[1;33m\u001b[0m\u001b[0m\n",
      "\u001b[1;32m~\\Anaconda3\\envs\\torch_py37\\lib\\sqlite3\\dbapi2.py\u001b[0m in \u001b[0;36mconvert_timestamp\u001b[1;34m(val)\u001b[0m\n\u001b[0;32m     68\u001b[0m         \u001b[0myear\u001b[0m\u001b[1;33m,\u001b[0m \u001b[0mmonth\u001b[0m\u001b[1;33m,\u001b[0m \u001b[0mday\u001b[0m \u001b[1;33m=\u001b[0m \u001b[0mmap\u001b[0m\u001b[1;33m(\u001b[0m\u001b[0mint\u001b[0m\u001b[1;33m,\u001b[0m \u001b[0mdatepart\u001b[0m\u001b[1;33m.\u001b[0m\u001b[0msplit\u001b[0m\u001b[1;33m(\u001b[0m\u001b[1;34mb\"-\"\u001b[0m\u001b[1;33m)\u001b[0m\u001b[1;33m)\u001b[0m\u001b[1;33m\u001b[0m\u001b[1;33m\u001b[0m\u001b[0m\n\u001b[0;32m     69\u001b[0m         \u001b[0mtimepart_full\u001b[0m \u001b[1;33m=\u001b[0m \u001b[0mtimepart\u001b[0m\u001b[1;33m.\u001b[0m\u001b[0msplit\u001b[0m\u001b[1;33m(\u001b[0m\u001b[1;34mb\".\"\u001b[0m\u001b[1;33m)\u001b[0m\u001b[1;33m\u001b[0m\u001b[1;33m\u001b[0m\u001b[0m\n\u001b[1;32m---> 70\u001b[1;33m         \u001b[0mhours\u001b[0m\u001b[1;33m,\u001b[0m \u001b[0mminutes\u001b[0m\u001b[1;33m,\u001b[0m \u001b[0mseconds\u001b[0m \u001b[1;33m=\u001b[0m \u001b[0mmap\u001b[0m\u001b[1;33m(\u001b[0m\u001b[0mint\u001b[0m\u001b[1;33m,\u001b[0m \u001b[0mtimepart_full\u001b[0m\u001b[1;33m[\u001b[0m\u001b[1;36m0\u001b[0m\u001b[1;33m]\u001b[0m\u001b[1;33m.\u001b[0m\u001b[0msplit\u001b[0m\u001b[1;33m(\u001b[0m\u001b[1;34mb\":\"\u001b[0m\u001b[1;33m)\u001b[0m\u001b[1;33m)\u001b[0m\u001b[1;33m\u001b[0m\u001b[1;33m\u001b[0m\u001b[0m\n\u001b[0m\u001b[0;32m     71\u001b[0m         \u001b[1;32mif\u001b[0m \u001b[0mlen\u001b[0m\u001b[1;33m(\u001b[0m\u001b[0mtimepart_full\u001b[0m\u001b[1;33m)\u001b[0m \u001b[1;33m==\u001b[0m \u001b[1;36m2\u001b[0m\u001b[1;33m:\u001b[0m\u001b[1;33m\u001b[0m\u001b[1;33m\u001b[0m\u001b[0m\n\u001b[0;32m     72\u001b[0m             \u001b[0mmicroseconds\u001b[0m \u001b[1;33m=\u001b[0m \u001b[0mint\u001b[0m\u001b[1;33m(\u001b[0m\u001b[1;34m'{:0<6.6}'\u001b[0m\u001b[1;33m.\u001b[0m\u001b[0mformat\u001b[0m\u001b[1;33m(\u001b[0m\u001b[0mtimepart_full\u001b[0m\u001b[1;33m[\u001b[0m\u001b[1;36m1\u001b[0m\u001b[1;33m]\u001b[0m\u001b[1;33m.\u001b[0m\u001b[0mdecode\u001b[0m\u001b[1;33m(\u001b[0m\u001b[1;33m)\u001b[0m\u001b[1;33m)\u001b[0m\u001b[1;33m)\u001b[0m\u001b[1;33m\u001b[0m\u001b[1;33m\u001b[0m\u001b[0m\n",
      "\u001b[1;31mValueError\u001b[0m: invalid literal for int() with base 10: b'00+09'"
     ]
    }
   ],
   "source": [
    "datetime_list2 = [[jst_timezone.localize(datetime.datetime(2020, 10, 31, 12, 0, 0)),],\n",
    "                  [jst_timezone.localize(datetime.datetime(2020, 10, 31, 13, 0, 0)),]\n",
    "                 ]\n",
    "\n",
    "\n",
    "with closing(make_conn()) as conn:\n",
    "    c = conn.cursor()\n",
    "    c.execute(\"create table times2 (datetime timestamp)\")\n",
    "    c.executemany(\"insert into times2(datetime) values(?)\",datetime_list2)\n",
    "    conn.commit()\n",
    "    \n",
    "    c.execute(\"select * from times2\")\n",
    "    print(c.fetchall())\n",
    "    c.execute(\"drop table times2\")"
   ]
  },
  {
   "cell_type": "code",
   "execution_count": 76,
   "metadata": {
    "ExecuteTime": {
     "end_time": "2020-11-02T19:59:05.609241Z",
     "start_time": "2020-11-02T19:59:05.526452Z"
    }
   },
   "outputs": [],
   "source": [
    "with closing(make_conn()) as conn:\n",
    "    c = conn.cursor()\n",
    "    c.execute(\"drop table times2\")"
   ]
  },
  {
   "cell_type": "markdown",
   "metadata": {},
   "source": [
    "### まとめ "
   ]
  },
  {
   "cell_type": "markdown",
   "metadata": {},
   "source": [
    "- local timeが必要な場合はaware なdatetimeを使うと決めておく．その時naiveなdatetimeのタイムゾーンは自動的に日本になることに注意\n",
    "- つまり，naiveなdatetimeのunix時刻は，タイムゾーンが東京都指定されたawareなdatetimeのものと一致する\n",
    "- spliteはnaiveなutcしかinsertできないので，必ずutcを入れる．"
   ]
  }
 ],
 "metadata": {
  "kernelspec": {
   "display_name": "torch_py37",
   "language": "python",
   "name": "torch_py37"
  },
  "language_info": {
   "codemirror_mode": {
    "name": "ipython",
    "version": 3
   },
   "file_extension": ".py",
   "mimetype": "text/x-python",
   "name": "python",
   "nbconvert_exporter": "python",
   "pygments_lexer": "ipython3",
   "version": "3.7.4"
  },
  "toc": {
   "base_numbering": 1,
   "nav_menu": {},
   "number_sections": true,
   "sideBar": true,
   "skip_h1_title": false,
   "title_cell": "Table of Contents",
   "title_sidebar": "Contents",
   "toc_cell": false,
   "toc_position": {},
   "toc_section_display": true,
   "toc_window_display": false
  }
 },
 "nbformat": 4,
 "nbformat_minor": 4
}
